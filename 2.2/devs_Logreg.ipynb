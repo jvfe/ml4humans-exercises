{
 "cells": [
  {
   "cell_type": "code",
   "execution_count": 1,
   "metadata": {},
   "outputs": [],
   "source": [
    "%matplotlib inline\n",
    "\n",
    "import numpy as np\n",
    "import pandas as pd\n",
    "from sklearn import preprocessing\n",
    "import matplotlib.pyplot as plt\n",
    "from sklearn.linear_model import LogisticRegression\n",
    "from sklearn.model_selection import train_test_split\n",
    "import seaborn as sns\n",
    "sns.set()"
   ]
  },
  {
   "cell_type": "markdown",
   "metadata": {},
   "source": [
    "# Data exploration and cleaning"
   ]
  },
  {
   "cell_type": "code",
   "execution_count": 2,
   "metadata": {},
   "outputs": [
    {
     "data": {
      "text/plain": [
       "(15591, 66)"
      ]
     },
     "execution_count": 2,
     "metadata": {},
     "output_type": "execute_result"
    }
   ],
   "source": [
    "data = pd.read_csv(\"/home/jvfe/Downloads/2016 Stack Overflow Survey Responses.csv\")\n",
    "data = data.dropna()\n",
    "data.shape"
   ]
  },
  {
   "cell_type": "code",
   "execution_count": 3,
   "metadata": {},
   "outputs": [
    {
     "data": {
      "text/html": [
       "<div>\n",
       "<style scoped>\n",
       "    .dataframe tbody tr th:only-of-type {\n",
       "        vertical-align: middle;\n",
       "    }\n",
       "\n",
       "    .dataframe tbody tr th {\n",
       "        vertical-align: top;\n",
       "    }\n",
       "\n",
       "    .dataframe thead th {\n",
       "        text-align: right;\n",
       "    }\n",
       "</style>\n",
       "<table border=\"1\" class=\"dataframe\">\n",
       "  <thead>\n",
       "    <tr style=\"text-align: right;\">\n",
       "      <th></th>\n",
       "      <th>Unnamed: 0</th>\n",
       "      <th>collector</th>\n",
       "      <th>country</th>\n",
       "      <th>un_subregion</th>\n",
       "      <th>so_region</th>\n",
       "      <th>age_range</th>\n",
       "      <th>age_midpoint</th>\n",
       "      <th>gender</th>\n",
       "      <th>self_identification</th>\n",
       "      <th>occupation</th>\n",
       "      <th>...</th>\n",
       "      <th>important_sameend</th>\n",
       "      <th>important_newtech</th>\n",
       "      <th>important_buildnew</th>\n",
       "      <th>important_buildexisting</th>\n",
       "      <th>important_promotion</th>\n",
       "      <th>important_companymission</th>\n",
       "      <th>important_wfh</th>\n",
       "      <th>important_ownoffice</th>\n",
       "      <th>developer_challenges</th>\n",
       "      <th>why_stack_overflow</th>\n",
       "    </tr>\n",
       "  </thead>\n",
       "  <tbody>\n",
       "    <tr>\n",
       "      <th>187</th>\n",
       "      <td>1019</td>\n",
       "      <td>Facebook</td>\n",
       "      <td>Australia</td>\n",
       "      <td>Australia and New Zealand</td>\n",
       "      <td>Oceania</td>\n",
       "      <td>40-49</td>\n",
       "      <td>44.5</td>\n",
       "      <td>Male</td>\n",
       "      <td>Developer; Programmer; Sr. Developer; Guru; Ex...</td>\n",
       "      <td>Full-stack web developer</td>\n",
       "      <td>...</td>\n",
       "      <td>I don't care about this</td>\n",
       "      <td>This is very important</td>\n",
       "      <td>This is very important</td>\n",
       "      <td>I don't care about this</td>\n",
       "      <td>I don't care about this</td>\n",
       "      <td>I don't care about this</td>\n",
       "      <td>I don't care about this</td>\n",
       "      <td>I don't care about this</td>\n",
       "      <td>Unrealistic expectations; Interacting with stu...</td>\n",
       "      <td>To get help for my job; To demonstrate that I'...</td>\n",
       "    </tr>\n",
       "    <tr>\n",
       "      <th>196</th>\n",
       "      <td>25993</td>\n",
       "      <td>Facebook</td>\n",
       "      <td>Australia</td>\n",
       "      <td>Australia and New Zealand</td>\n",
       "      <td>Oceania</td>\n",
       "      <td>20-24</td>\n",
       "      <td>22.0</td>\n",
       "      <td>Male</td>\n",
       "      <td>Developer; Engineer; Hacker</td>\n",
       "      <td>System administrator</td>\n",
       "      <td>...</td>\n",
       "      <td>This is somewhat important</td>\n",
       "      <td>This is somewhat important</td>\n",
       "      <td>This is somewhat important</td>\n",
       "      <td>This is somewhat important</td>\n",
       "      <td>This is very important</td>\n",
       "      <td>This is very important</td>\n",
       "      <td>I don't care about this</td>\n",
       "      <td>I don't care about this</td>\n",
       "      <td>Poor team dynamics; Inefficient development pr...</td>\n",
       "      <td>Because I can't do my job without it; Beacause...</td>\n",
       "    </tr>\n",
       "    <tr>\n",
       "      <th>197</th>\n",
       "      <td>26002</td>\n",
       "      <td>Facebook</td>\n",
       "      <td>Australia</td>\n",
       "      <td>Australia and New Zealand</td>\n",
       "      <td>Oceania</td>\n",
       "      <td>20-24</td>\n",
       "      <td>22.0</td>\n",
       "      <td>Male</td>\n",
       "      <td>Programmer</td>\n",
       "      <td>Enterprise level services developer</td>\n",
       "      <td>...</td>\n",
       "      <td>This is very important</td>\n",
       "      <td>This is very important</td>\n",
       "      <td>This is very important</td>\n",
       "      <td>This is somewhat important</td>\n",
       "      <td>This is somewhat important</td>\n",
       "      <td>This is very important</td>\n",
       "      <td>This is somewhat important</td>\n",
       "      <td>This is very important</td>\n",
       "      <td>Inefficient development processes; Fragile cod...</td>\n",
       "      <td>To get help for my job; whyso_onlinepresence; ...</td>\n",
       "    </tr>\n",
       "    <tr>\n",
       "      <th>199</th>\n",
       "      <td>26469</td>\n",
       "      <td>Facebook</td>\n",
       "      <td>Australia</td>\n",
       "      <td>Australia and New Zealand</td>\n",
       "      <td>Oceania</td>\n",
       "      <td>30-34</td>\n",
       "      <td>32.0</td>\n",
       "      <td>Male</td>\n",
       "      <td>Developer; Programmer; Full-stack Developer</td>\n",
       "      <td>Analyst</td>\n",
       "      <td>...</td>\n",
       "      <td>This is somewhat important</td>\n",
       "      <td>This is very important</td>\n",
       "      <td>This is very important</td>\n",
       "      <td>This is very important</td>\n",
       "      <td>I don't care about this</td>\n",
       "      <td>This is very important</td>\n",
       "      <td>I don't care about this</td>\n",
       "      <td>I don't care about this</td>\n",
       "      <td>Inefficient development processes; Outdated te...</td>\n",
       "      <td>To get help for my job; To give help to others...</td>\n",
       "    </tr>\n",
       "    <tr>\n",
       "      <th>200</th>\n",
       "      <td>27081</td>\n",
       "      <td>Facebook</td>\n",
       "      <td>Australia</td>\n",
       "      <td>Australia and New Zealand</td>\n",
       "      <td>Oceania</td>\n",
       "      <td>30-34</td>\n",
       "      <td>32.0</td>\n",
       "      <td>Male</td>\n",
       "      <td>Developer; Engineer; Programmer; Sr. Developer...</td>\n",
       "      <td>Full-stack web developer</td>\n",
       "      <td>...</td>\n",
       "      <td>I don't care about this</td>\n",
       "      <td>This is somewhat important</td>\n",
       "      <td>This is somewhat important</td>\n",
       "      <td>This is very important</td>\n",
       "      <td>This is very important</td>\n",
       "      <td>This is very important</td>\n",
       "      <td>This is very important</td>\n",
       "      <td>This is very important</td>\n",
       "      <td>Poor team dynamics; Inefficient development pr...</td>\n",
       "      <td>Beacause I love to learn</td>\n",
       "    </tr>\n",
       "  </tbody>\n",
       "</table>\n",
       "<p>5 rows × 66 columns</p>\n",
       "</div>"
      ],
      "text/plain": [
       "     Unnamed: 0 collector    country               un_subregion so_region  \\\n",
       "187        1019  Facebook  Australia  Australia and New Zealand   Oceania   \n",
       "196       25993  Facebook  Australia  Australia and New Zealand   Oceania   \n",
       "197       26002  Facebook  Australia  Australia and New Zealand   Oceania   \n",
       "199       26469  Facebook  Australia  Australia and New Zealand   Oceania   \n",
       "200       27081  Facebook  Australia  Australia and New Zealand   Oceania   \n",
       "\n",
       "    age_range  age_midpoint gender  \\\n",
       "187     40-49          44.5   Male   \n",
       "196     20-24          22.0   Male   \n",
       "197     20-24          22.0   Male   \n",
       "199     30-34          32.0   Male   \n",
       "200     30-34          32.0   Male   \n",
       "\n",
       "                                   self_identification  \\\n",
       "187  Developer; Programmer; Sr. Developer; Guru; Ex...   \n",
       "196                        Developer; Engineer; Hacker   \n",
       "197                                         Programmer   \n",
       "199        Developer; Programmer; Full-stack Developer   \n",
       "200  Developer; Engineer; Programmer; Sr. Developer...   \n",
       "\n",
       "                              occupation  ...           important_sameend  \\\n",
       "187             Full-stack web developer  ...     I don't care about this   \n",
       "196                 System administrator  ...  This is somewhat important   \n",
       "197  Enterprise level services developer  ...      This is very important   \n",
       "199                              Analyst  ...  This is somewhat important   \n",
       "200             Full-stack web developer  ...     I don't care about this   \n",
       "\n",
       "              important_newtech          important_buildnew  \\\n",
       "187      This is very important      This is very important   \n",
       "196  This is somewhat important  This is somewhat important   \n",
       "197      This is very important      This is very important   \n",
       "199      This is very important      This is very important   \n",
       "200  This is somewhat important  This is somewhat important   \n",
       "\n",
       "        important_buildexisting         important_promotion  \\\n",
       "187     I don't care about this     I don't care about this   \n",
       "196  This is somewhat important      This is very important   \n",
       "197  This is somewhat important  This is somewhat important   \n",
       "199      This is very important     I don't care about this   \n",
       "200      This is very important      This is very important   \n",
       "\n",
       "     important_companymission               important_wfh  \\\n",
       "187   I don't care about this     I don't care about this   \n",
       "196    This is very important     I don't care about this   \n",
       "197    This is very important  This is somewhat important   \n",
       "199    This is very important     I don't care about this   \n",
       "200    This is very important      This is very important   \n",
       "\n",
       "         important_ownoffice  \\\n",
       "187  I don't care about this   \n",
       "196  I don't care about this   \n",
       "197   This is very important   \n",
       "199  I don't care about this   \n",
       "200   This is very important   \n",
       "\n",
       "                                  developer_challenges  \\\n",
       "187  Unrealistic expectations; Interacting with stu...   \n",
       "196  Poor team dynamics; Inefficient development pr...   \n",
       "197  Inefficient development processes; Fragile cod...   \n",
       "199  Inefficient development processes; Outdated te...   \n",
       "200  Poor team dynamics; Inefficient development pr...   \n",
       "\n",
       "                                    why_stack_overflow  \n",
       "187  To get help for my job; To demonstrate that I'...  \n",
       "196  Because I can't do my job without it; Beacause...  \n",
       "197  To get help for my job; whyso_onlinepresence; ...  \n",
       "199  To get help for my job; To give help to others...  \n",
       "200                           Beacause I love to learn  \n",
       "\n",
       "[5 rows x 66 columns]"
      ]
     },
     "execution_count": 3,
     "metadata": {},
     "output_type": "execute_result"
    }
   ],
   "source": [
    "data.head()"
   ]
  },
  {
   "cell_type": "code",
   "execution_count": 4,
   "metadata": {},
   "outputs": [
    {
     "data": {
      "text/plain": [
       "['Unnamed: 0',\n",
       " 'collector',\n",
       " 'country',\n",
       " 'un_subregion',\n",
       " 'so_region',\n",
       " 'age_range',\n",
       " 'age_midpoint',\n",
       " 'gender',\n",
       " 'self_identification',\n",
       " 'occupation',\n",
       " 'occupation_group',\n",
       " 'experience_range',\n",
       " 'experience_midpoint',\n",
       " 'salary_range',\n",
       " 'salary_midpoint',\n",
       " 'big_mac_index',\n",
       " 'tech_do',\n",
       " 'tech_want',\n",
       " 'aliens',\n",
       " 'programming_ability',\n",
       " 'employment_status',\n",
       " 'industry',\n",
       " 'company_size_range',\n",
       " 'team_size_range',\n",
       " 'women_on_team',\n",
       " 'remote',\n",
       " 'job_satisfaction',\n",
       " 'job_discovery',\n",
       " 'dev_environment',\n",
       " 'commit_frequency',\n",
       " 'hobby',\n",
       " 'dogs_vs_cats',\n",
       " 'desktop_os',\n",
       " 'unit_testing',\n",
       " 'rep_range',\n",
       " 'visit_frequency',\n",
       " 'why_learn_new_tech',\n",
       " 'education',\n",
       " 'open_to_new_job',\n",
       " 'new_job_value',\n",
       " 'job_search_annoyance',\n",
       " 'interview_likelihood',\n",
       " 'how_to_improve_interview_process',\n",
       " 'star_wars_vs_star_trek',\n",
       " 'agree_tech',\n",
       " 'agree_notice',\n",
       " 'agree_problemsolving',\n",
       " 'agree_diversity',\n",
       " 'agree_adblocker',\n",
       " 'agree_alcohol',\n",
       " 'agree_loveboss',\n",
       " 'agree_nightcode',\n",
       " 'agree_legacy',\n",
       " 'agree_mars',\n",
       " 'important_variety',\n",
       " 'important_control',\n",
       " 'important_sameend',\n",
       " 'important_newtech',\n",
       " 'important_buildnew',\n",
       " 'important_buildexisting',\n",
       " 'important_promotion',\n",
       " 'important_companymission',\n",
       " 'important_wfh',\n",
       " 'important_ownoffice',\n",
       " 'developer_challenges',\n",
       " 'why_stack_overflow']"
      ]
     },
     "execution_count": 4,
     "metadata": {},
     "output_type": "execute_result"
    }
   ],
   "source": [
    "list(data)"
   ]
  },
  {
   "cell_type": "code",
   "execution_count": 5,
   "metadata": {},
   "outputs": [
    {
     "data": {
      "text/html": [
       "<div>\n",
       "<style scoped>\n",
       "    .dataframe tbody tr th:only-of-type {\n",
       "        vertical-align: middle;\n",
       "    }\n",
       "\n",
       "    .dataframe tbody tr th {\n",
       "        vertical-align: top;\n",
       "    }\n",
       "\n",
       "    .dataframe thead th {\n",
       "        text-align: right;\n",
       "    }\n",
       "</style>\n",
       "<table border=\"1\" class=\"dataframe\">\n",
       "  <thead>\n",
       "    <tr style=\"text-align: right;\">\n",
       "      <th></th>\n",
       "      <th>remote</th>\n",
       "      <th>age_midpoint</th>\n",
       "      <th>experience_midpoint</th>\n",
       "      <th>salary_midpoint</th>\n",
       "    </tr>\n",
       "  </thead>\n",
       "  <tbody>\n",
       "    <tr>\n",
       "      <th>187</th>\n",
       "      <td>I rarely work remotely</td>\n",
       "      <td>44.5</td>\n",
       "      <td>13.0</td>\n",
       "      <td>75000.0</td>\n",
       "    </tr>\n",
       "    <tr>\n",
       "      <th>196</th>\n",
       "      <td>I rarely work remotely</td>\n",
       "      <td>22.0</td>\n",
       "      <td>3.5</td>\n",
       "      <td>65000.0</td>\n",
       "    </tr>\n",
       "    <tr>\n",
       "      <th>197</th>\n",
       "      <td>I rarely work remotely</td>\n",
       "      <td>22.0</td>\n",
       "      <td>1.5</td>\n",
       "      <td>45000.0</td>\n",
       "    </tr>\n",
       "    <tr>\n",
       "      <th>199</th>\n",
       "      <td>I rarely work remotely</td>\n",
       "      <td>32.0</td>\n",
       "      <td>8.0</td>\n",
       "      <td>55000.0</td>\n",
       "    </tr>\n",
       "    <tr>\n",
       "      <th>200</th>\n",
       "      <td>Part-time remote</td>\n",
       "      <td>32.0</td>\n",
       "      <td>13.0</td>\n",
       "      <td>65000.0</td>\n",
       "    </tr>\n",
       "    <tr>\n",
       "      <th>...</th>\n",
       "      <td>...</td>\n",
       "      <td>...</td>\n",
       "      <td>...</td>\n",
       "      <td>...</td>\n",
       "    </tr>\n",
       "    <tr>\n",
       "      <th>55996</th>\n",
       "      <td>Part-time remote</td>\n",
       "      <td>22.0</td>\n",
       "      <td>3.5</td>\n",
       "      <td>65000.0</td>\n",
       "    </tr>\n",
       "    <tr>\n",
       "      <th>55997</th>\n",
       "      <td>Full-time remote</td>\n",
       "      <td>54.5</td>\n",
       "      <td>13.0</td>\n",
       "      <td>135000.0</td>\n",
       "    </tr>\n",
       "    <tr>\n",
       "      <th>55998</th>\n",
       "      <td>I rarely work remotely</td>\n",
       "      <td>37.0</td>\n",
       "      <td>13.0</td>\n",
       "      <td>105000.0</td>\n",
       "    </tr>\n",
       "    <tr>\n",
       "      <th>55999</th>\n",
       "      <td>Never</td>\n",
       "      <td>32.0</td>\n",
       "      <td>8.0</td>\n",
       "      <td>45000.0</td>\n",
       "    </tr>\n",
       "    <tr>\n",
       "      <th>56000</th>\n",
       "      <td>Part-time remote</td>\n",
       "      <td>27.0</td>\n",
       "      <td>3.5</td>\n",
       "      <td>65000.0</td>\n",
       "    </tr>\n",
       "  </tbody>\n",
       "</table>\n",
       "<p>15591 rows × 4 columns</p>\n",
       "</div>"
      ],
      "text/plain": [
       "                       remote  age_midpoint  experience_midpoint  \\\n",
       "187    I rarely work remotely          44.5                 13.0   \n",
       "196    I rarely work remotely          22.0                  3.5   \n",
       "197    I rarely work remotely          22.0                  1.5   \n",
       "199    I rarely work remotely          32.0                  8.0   \n",
       "200          Part-time remote          32.0                 13.0   \n",
       "...                       ...           ...                  ...   \n",
       "55996        Part-time remote          22.0                  3.5   \n",
       "55997        Full-time remote          54.5                 13.0   \n",
       "55998  I rarely work remotely          37.0                 13.0   \n",
       "55999                   Never          32.0                  8.0   \n",
       "56000        Part-time remote          27.0                  3.5   \n",
       "\n",
       "       salary_midpoint  \n",
       "187            75000.0  \n",
       "196            65000.0  \n",
       "197            45000.0  \n",
       "199            55000.0  \n",
       "200            65000.0  \n",
       "...                ...  \n",
       "55996          65000.0  \n",
       "55997         135000.0  \n",
       "55998         105000.0  \n",
       "55999          45000.0  \n",
       "56000          65000.0  \n",
       "\n",
       "[15591 rows x 4 columns]"
      ]
     },
     "execution_count": 5,
     "metadata": {},
     "output_type": "execute_result"
    }
   ],
   "source": [
    "data_clean = data[[\"remote\", \"age_midpoint\", \"experience_midpoint\", 'salary_midpoint']]\n",
    "\n",
    "data_clean"
   ]
  },
  {
   "cell_type": "code",
   "execution_count": 6,
   "metadata": {},
   "outputs": [
    {
     "name": "stderr",
     "output_type": "stream",
     "text": [
      "<ipython-input-6-73517b89647e>:1: SettingWithCopyWarning: \n",
      "A value is trying to be set on a copy of a slice from a DataFrame.\n",
      "Try using .loc[row_indexer,col_indexer] = value instead\n",
      "\n",
      "See the caveats in the documentation: https://pandas.pydata.org/pandas-docs/stable/user_guide/indexing.html#returning-a-view-versus-a-copy\n",
      "  data_clean['remote'] = data_clean['remote'].replace(['Part-time remote','Full-time remote'], 1)\n",
      "<ipython-input-6-73517b89647e>:2: SettingWithCopyWarning: \n",
      "A value is trying to be set on a copy of a slice from a DataFrame.\n",
      "Try using .loc[row_indexer,col_indexer] = value instead\n",
      "\n",
      "See the caveats in the documentation: https://pandas.pydata.org/pandas-docs/stable/user_guide/indexing.html#returning-a-view-versus-a-copy\n",
      "  data_clean['remote'] = data_clean['remote'].replace(['Never', 'I rarely work remotely'], 0)\n"
     ]
    },
    {
     "data": {
      "text/html": [
       "<div>\n",
       "<style scoped>\n",
       "    .dataframe tbody tr th:only-of-type {\n",
       "        vertical-align: middle;\n",
       "    }\n",
       "\n",
       "    .dataframe tbody tr th {\n",
       "        vertical-align: top;\n",
       "    }\n",
       "\n",
       "    .dataframe thead th {\n",
       "        text-align: right;\n",
       "    }\n",
       "</style>\n",
       "<table border=\"1\" class=\"dataframe\">\n",
       "  <thead>\n",
       "    <tr style=\"text-align: right;\">\n",
       "      <th></th>\n",
       "      <th>remote</th>\n",
       "      <th>age_midpoint</th>\n",
       "      <th>experience_midpoint</th>\n",
       "      <th>salary_midpoint</th>\n",
       "    </tr>\n",
       "  </thead>\n",
       "  <tbody>\n",
       "    <tr>\n",
       "      <th>187</th>\n",
       "      <td>0</td>\n",
       "      <td>44.5</td>\n",
       "      <td>13.0</td>\n",
       "      <td>75000.0</td>\n",
       "    </tr>\n",
       "    <tr>\n",
       "      <th>196</th>\n",
       "      <td>0</td>\n",
       "      <td>22.0</td>\n",
       "      <td>3.5</td>\n",
       "      <td>65000.0</td>\n",
       "    </tr>\n",
       "    <tr>\n",
       "      <th>197</th>\n",
       "      <td>0</td>\n",
       "      <td>22.0</td>\n",
       "      <td>1.5</td>\n",
       "      <td>45000.0</td>\n",
       "    </tr>\n",
       "    <tr>\n",
       "      <th>199</th>\n",
       "      <td>0</td>\n",
       "      <td>32.0</td>\n",
       "      <td>8.0</td>\n",
       "      <td>55000.0</td>\n",
       "    </tr>\n",
       "    <tr>\n",
       "      <th>200</th>\n",
       "      <td>1</td>\n",
       "      <td>32.0</td>\n",
       "      <td>13.0</td>\n",
       "      <td>65000.0</td>\n",
       "    </tr>\n",
       "    <tr>\n",
       "      <th>...</th>\n",
       "      <td>...</td>\n",
       "      <td>...</td>\n",
       "      <td>...</td>\n",
       "      <td>...</td>\n",
       "    </tr>\n",
       "    <tr>\n",
       "      <th>55996</th>\n",
       "      <td>1</td>\n",
       "      <td>22.0</td>\n",
       "      <td>3.5</td>\n",
       "      <td>65000.0</td>\n",
       "    </tr>\n",
       "    <tr>\n",
       "      <th>55997</th>\n",
       "      <td>1</td>\n",
       "      <td>54.5</td>\n",
       "      <td>13.0</td>\n",
       "      <td>135000.0</td>\n",
       "    </tr>\n",
       "    <tr>\n",
       "      <th>55998</th>\n",
       "      <td>0</td>\n",
       "      <td>37.0</td>\n",
       "      <td>13.0</td>\n",
       "      <td>105000.0</td>\n",
       "    </tr>\n",
       "    <tr>\n",
       "      <th>55999</th>\n",
       "      <td>0</td>\n",
       "      <td>32.0</td>\n",
       "      <td>8.0</td>\n",
       "      <td>45000.0</td>\n",
       "    </tr>\n",
       "    <tr>\n",
       "      <th>56000</th>\n",
       "      <td>1</td>\n",
       "      <td>27.0</td>\n",
       "      <td>3.5</td>\n",
       "      <td>65000.0</td>\n",
       "    </tr>\n",
       "  </tbody>\n",
       "</table>\n",
       "<p>15591 rows × 4 columns</p>\n",
       "</div>"
      ],
      "text/plain": [
       "       remote  age_midpoint  experience_midpoint  salary_midpoint\n",
       "187         0          44.5                 13.0          75000.0\n",
       "196         0          22.0                  3.5          65000.0\n",
       "197         0          22.0                  1.5          45000.0\n",
       "199         0          32.0                  8.0          55000.0\n",
       "200         1          32.0                 13.0          65000.0\n",
       "...       ...           ...                  ...              ...\n",
       "55996       1          22.0                  3.5          65000.0\n",
       "55997       1          54.5                 13.0         135000.0\n",
       "55998       0          37.0                 13.0         105000.0\n",
       "55999       0          32.0                  8.0          45000.0\n",
       "56000       1          27.0                  3.5          65000.0\n",
       "\n",
       "[15591 rows x 4 columns]"
      ]
     },
     "execution_count": 6,
     "metadata": {},
     "output_type": "execute_result"
    }
   ],
   "source": [
    "data_clean['remote'] = data_clean['remote'].replace(['Part-time remote','Full-time remote'], 1)\n",
    "data_clean['remote'] = data_clean['remote'].replace(['Never', 'I rarely work remotely'], 0)\n",
    "data_clean"
   ]
  },
  {
   "cell_type": "code",
   "execution_count": 7,
   "metadata": {},
   "outputs": [
    {
     "data": {
      "text/plain": [
       "0    11243\n",
       "1     4348\n",
       "Name: remote, dtype: int64"
      ]
     },
     "execution_count": 7,
     "metadata": {},
     "output_type": "execute_result"
    }
   ],
   "source": [
    "data_clean['remote'].value_counts()"
   ]
  },
  {
   "cell_type": "code",
   "execution_count": 8,
   "metadata": {},
   "outputs": [
    {
     "data": {
      "image/png": "[encoded data removed]",
      "text/plain": [
       "<Figure size 432x288 with 1 Axes>"
      ]
     },
     "metadata": {},
     "output_type": "display_data"
    }
   ],
   "source": [
    "sns.countplot(x='remote', data=data_clean)\n",
    "plt.show()"
   ]
  },
  {
   "cell_type": "code",
   "execution_count": 9,
   "metadata": {},
   "outputs": [
    {
     "data": {
      "image/png": "[encoded data removed]",
      "text/plain": [
       "<Figure size 432x288 with 1 Axes>"
      ]
     },
     "metadata": {},
     "output_type": "display_data"
    }
   ],
   "source": [
    "data_clean['age_midpoint'].hist()\n",
    "plt.show()"
   ]
  },
  {
   "cell_type": "code",
   "execution_count": 10,
   "metadata": {},
   "outputs": [
    {
     "data": {
      "image/png": "[encoded data removed]",
      "text/plain": [
       "<Figure size 432x288 with 1 Axes>"
      ]
     },
     "metadata": {},
     "output_type": "display_data"
    }
   ],
   "source": [
    "data_clean['experience_midpoint'].hist()\n",
    "plt.show()"
   ]
  },
  {
   "cell_type": "markdown",
   "metadata": {},
   "source": [
    "# Oversampling"
   ]
  },
  {
   "cell_type": "code",
   "execution_count": 11,
   "metadata": {},
   "outputs": [],
   "source": [
    "X = data_clean.loc[:, data_clean.columns != 'remote']\n",
    "y = data_clean.loc[:, data_clean.columns == 'remote']\n",
    "\n",
    "from imblearn.over_sampling import SMOTE\n",
    "os = SMOTE(random_state=0)\n",
    "\n",
    "X_train, X_test, y_train, y_test = train_test_split(X, y, \n",
    "                                                    test_size=0.3, random_state=0)\n",
    "columns = X_train.columns"
   ]
  },
  {
   "cell_type": "code",
   "execution_count": 12,
   "metadata": {},
   "outputs": [
    {
     "name": "stdout",
     "output_type": "stream",
     "text": [
      "Length of oversampled data is  15712\n",
      "Number of non-remote devs in oversampled data 7856\n",
      "Number of remote devs 7856\n",
      "Proportion of non-remote devs in oversampled data is  0.5\n",
      "Proportion of remote devs in oversampled data is  0.5\n"
     ]
    }
   ],
   "source": [
    "os_data_X,os_data_y=os.fit_sample(X_train, y_train)\n",
    "os_data_X = pd.DataFrame(data=os_data_X,columns=columns )\n",
    "os_data_y= pd.DataFrame(data=os_data_y,columns=['remote'])\n",
    "\n",
    "print(\"Length of oversampled data is \",len(os_data_X))\n",
    "print(\"Number of non-remote devs in oversampled data\",len(os_data_y[os_data_y['remote']==0]))\n",
    "print(\"Number of remote devs\",len(os_data_y[os_data_y['remote']==1]))\n",
    "print(\"Proportion of non-remote devs in oversampled data is \",len(os_data_y[os_data_y['remote']==0])/len(os_data_X))\n",
    "print(\"Proportion of remote devs in oversampled data is \",len(os_data_y[os_data_y['remote']==1])/len(os_data_X))"
   ]
  },
  {
   "cell_type": "markdown",
   "metadata": {},
   "source": [
    "# Implementing and testing the model"
   ]
  },
  {
   "cell_type": "code",
   "execution_count": 13,
   "metadata": {},
   "outputs": [
    {
     "name": "stdout",
     "output_type": "stream",
     "text": [
      "Optimization terminated successfully.\n",
      "         Current function value: 0.597425\n",
      "         Iterations 5\n",
      "                           Results: Logit\n",
      "====================================================================\n",
      "Model:               Logit             Pseudo R-squared:  -0.009    \n",
      "Dependent Variable:  remote            AIC:               18634.9177\n",
      "Date:                2020-03-08 10:02  BIC:               18657.8811\n",
      "No. Observations:    15591             Log-Likelihood:    -9314.5   \n",
      "Df Model:            2                 LL-Null:           -9228.2   \n",
      "Df Residuals:        15588             LLR p-value:       1.0000    \n",
      "Converged:           1.0000            Scale:             1.0000    \n",
      "No. Iterations:      5.0000                                         \n",
      "--------------------------------------------------------------------\n",
      "                     Coef.  Std.Err.    z     P>|z|   [0.025  0.975]\n",
      "--------------------------------------------------------------------\n",
      "age_midpoint        -0.0564   0.0016 -35.5591 0.0000 -0.0595 -0.0533\n",
      "experience_midpoint  0.1085   0.0055  19.5539 0.0000  0.0976  0.1194\n",
      "salary_midpoint      0.0000   0.0000   3.4051 0.0007  0.0000  0.0000\n",
      "====================================================================\n",
      "\n"
     ]
    }
   ],
   "source": [
    "import statsmodels.api as sm\n",
    "logit_model=sm.Logit(y,X)\n",
    "result=logit_model.fit()\n",
    "print(result.summary2())"
   ]
  },
  {
   "cell_type": "code",
   "execution_count": 17,
   "metadata": {},
   "outputs": [
    {
     "data": {
      "text/plain": [
       "LogisticRegression(C=1.0, class_weight=None, dual=False, fit_intercept=True,\n",
       "                   intercept_scaling=1, l1_ratio=None, max_iter=100,\n",
       "                   multi_class='auto', n_jobs=None, penalty='l2',\n",
       "                   random_state=None, solver='lbfgs', tol=0.0001, verbose=0,\n",
       "                   warm_start=False)"
      ]
     },
     "execution_count": 17,
     "metadata": {},
     "output_type": "execute_result"
    }
   ],
   "source": [
    "from sklearn import metrics\n",
    "logreg = LogisticRegression()\n",
    "logreg.fit(X_train, y_train.values.ravel())"
   ]
  },
  {
   "cell_type": "code",
   "execution_count": 21,
   "metadata": {},
   "outputs": [
    {
     "name": "stdout",
     "output_type": "stream",
     "text": [
      "Accuracy of logistic regression classifier on test set: 0.7235998289867465\n"
     ]
    }
   ],
   "source": [
    "y_pred = logreg.predict(X_test)\n",
    "print(f'Accuracy of logistic regression classifier on test set: {logreg.score(X_test, y_test)}')"
   ]
  },
  {
   "cell_type": "markdown",
   "metadata": {},
   "source": [
    "# Metrics"
   ]
  },
  {
   "cell_type": "markdown",
   "metadata": {},
   "source": [
    "## Confusion Matrix"
   ]
  },
  {
   "cell_type": "code",
   "execution_count": 22,
   "metadata": {},
   "outputs": [
    {
     "name": "stdout",
     "output_type": "stream",
     "text": [
      "[[3385    2]\n",
      " [1291    0]]\n"
     ]
    }
   ],
   "source": [
    "from sklearn.metrics import confusion_matrix\n",
    "confusion_matrix = confusion_matrix(y_test, y_pred)\n",
    "print(confusion_matrix)"
   ]
  },
  {
   "cell_type": "markdown",
   "metadata": {},
   "source": [
    "## Classification report"
   ]
  },
  {
   "cell_type": "markdown",
   "metadata": {},
   "source": [
    "* Precisão: Habilidade de não classificar um sample como positivo se ele for negativo\n",
    "* Recall: Habilidade de encontrar todos os samples positivos\n",
    "* F-beta score: Média ponderada harmônica de precisão e recall. Vai de 0(pior) a 1(melhor)."
   ]
  },
  {
   "cell_type": "code",
   "execution_count": 23,
   "metadata": {},
   "outputs": [
    {
     "name": "stdout",
     "output_type": "stream",
     "text": [
      "              precision    recall  f1-score   support\n",
      "\n",
      "           0       0.72      1.00      0.84      3387\n",
      "           1       0.00      0.00      0.00      1291\n",
      "\n",
      "    accuracy                           0.72      4678\n",
      "   macro avg       0.36      0.50      0.42      4678\n",
      "weighted avg       0.52      0.72      0.61      4678\n",
      "\n"
     ]
    }
   ],
   "source": [
    "from sklearn.metrics import classification_report\n",
    "print(classification_report(y_test, y_pred))"
   ]
  },
  {
   "cell_type": "code",
   "execution_count": 24,
   "metadata": {},
   "outputs": [
    {
     "data": {
      "image/png": "[encoded data removed]",
      "text/plain": [
       "<Figure size 432x288 with 1 Axes>"
      ]
     },
     "metadata": {},
     "output_type": "display_data"
    }
   ],
   "source": [
    "from sklearn.metrics import roc_auc_score\n",
    "from sklearn.metrics import roc_curve\n",
    "\n",
    "logit_roc_auc = roc_auc_score(y_test, logreg.predict(X_test))\n",
    "fpr, tpr, thresholds = roc_curve(y_test, logreg.predict_proba(X_test)[:,1])\n",
    "\n",
    "plt.figure()\n",
    "plt.plot(fpr, tpr, label='Logistic Regression (area = %0.2f)' % logit_roc_auc)\n",
    "plt.plot([0, 1], [0, 1],'r--')\n",
    "plt.xlim([0.0, 1.0])\n",
    "plt.ylim([0.0, 1.05])\n",
    "plt.xlabel('False Positive Rate')\n",
    "plt.ylabel('True Positive Rate')\n",
    "plt.title('Receiver operating characteristic')\n",
    "plt.legend(loc=\"lower right\")\n",
    "plt.show()"
   ]
  },
  {
   "cell_type": "markdown",
   "metadata": {},
   "source": [
    "O ideal do ROC seria ficar mais longe possível da linha tracejada, visto que ela sinaliza um classificador totalmente randômico."
   ]
  }
 ],
 "metadata": {
  "kernelspec": {
   "display_name": "Python 3",
   "language": "python",
   "name": "python3"
  },
  "language_info": {
   "codemirror_mode": {
    "name": "ipython",
    "version": 3
   },
   "file_extension": ".py",
   "mimetype": "text/x-python",
   "name": "python",
   "nbconvert_exporter": "python",
   "pygments_lexer": "ipython3",
   "version": "3.8.2"
  }
 },
 "nbformat": 4,
 "nbformat_minor": 4
}
