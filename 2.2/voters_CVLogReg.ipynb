{
 "cells": [
  {
   "cell_type": "code",
   "execution_count": 1,
   "metadata": {},
   "outputs": [],
   "source": [
    "import numpy as np\n",
    "import pandas as pd\n",
    "import matplotlib.pyplot as plt\n",
    "import seaborn as sns\n",
    "sns.set()\n",
    "%matplotlib inline\n",
    "plt.style.use('ggplot')"
   ]
  },
  {
   "cell_type": "code",
   "execution_count": 2,
   "metadata": {},
   "outputs": [
    {
     "data": {
      "text/html": [
       "<div>\n",
       "<style scoped>\n",
       "    .dataframe tbody tr th:only-of-type {\n",
       "        vertical-align: middle;\n",
       "    }\n",
       "\n",
       "    .dataframe tbody tr th {\n",
       "        vertical-align: top;\n",
       "    }\n",
       "\n",
       "    .dataframe thead th {\n",
       "        text-align: right;\n",
       "    }\n",
       "</style>\n",
       "<table border=\"1\" class=\"dataframe\">\n",
       "  <thead>\n",
       "    <tr style=\"text-align: right;\">\n",
       "      <th></th>\n",
       "      <th>case_identifier</th>\n",
       "      <th>turnout16_2016</th>\n",
       "      <th>RIGGED_SYSTEM_1_2016</th>\n",
       "      <th>RIGGED_SYSTEM_2_2016</th>\n",
       "      <th>RIGGED_SYSTEM_3_2016</th>\n",
       "      <th>RIGGED_SYSTEM_4_2016</th>\n",
       "      <th>RIGGED_SYSTEM_5_2016</th>\n",
       "      <th>RIGGED_SYSTEM_6_2016</th>\n",
       "      <th>track_2016</th>\n",
       "      <th>persfinretro_2016</th>\n",
       "      <th>...</th>\n",
       "      <th>imiss_n_2016</th>\n",
       "      <th>imiss_o_2016</th>\n",
       "      <th>imiss_p_2016</th>\n",
       "      <th>imiss_q_2016</th>\n",
       "      <th>imiss_r_2016</th>\n",
       "      <th>imiss_s_2016</th>\n",
       "      <th>imiss_t_2016</th>\n",
       "      <th>imiss_u_2016</th>\n",
       "      <th>imiss_x_2016</th>\n",
       "      <th>imiss_y_2016</th>\n",
       "    </tr>\n",
       "  </thead>\n",
       "  <tbody>\n",
       "    <tr>\n",
       "      <th>0</th>\n",
       "      <td>779</td>\n",
       "      <td>Voted</td>\n",
       "      <td>3</td>\n",
       "      <td>4</td>\n",
       "      <td>1</td>\n",
       "      <td>4</td>\n",
       "      <td>3</td>\n",
       "      <td>2</td>\n",
       "      <td>2</td>\n",
       "      <td>2</td>\n",
       "      <td>...</td>\n",
       "      <td>1</td>\n",
       "      <td>2</td>\n",
       "      <td>2</td>\n",
       "      <td>1</td>\n",
       "      <td>2</td>\n",
       "      <td>1</td>\n",
       "      <td>1</td>\n",
       "      <td>2</td>\n",
       "      <td>1</td>\n",
       "      <td>1</td>\n",
       "    </tr>\n",
       "    <tr>\n",
       "      <th>1</th>\n",
       "      <td>2108</td>\n",
       "      <td>Voted</td>\n",
       "      <td>2</td>\n",
       "      <td>1</td>\n",
       "      <td>3</td>\n",
       "      <td>1</td>\n",
       "      <td>3</td>\n",
       "      <td>2</td>\n",
       "      <td>2</td>\n",
       "      <td>3</td>\n",
       "      <td>...</td>\n",
       "      <td>2</td>\n",
       "      <td>1</td>\n",
       "      <td>1</td>\n",
       "      <td>1</td>\n",
       "      <td>1</td>\n",
       "      <td>2</td>\n",
       "      <td>1</td>\n",
       "      <td>2</td>\n",
       "      <td>3</td>\n",
       "      <td>4</td>\n",
       "    </tr>\n",
       "    <tr>\n",
       "      <th>2</th>\n",
       "      <td>2597</td>\n",
       "      <td>Voted</td>\n",
       "      <td>2</td>\n",
       "      <td>4</td>\n",
       "      <td>1</td>\n",
       "      <td>4</td>\n",
       "      <td>1</td>\n",
       "      <td>1</td>\n",
       "      <td>1</td>\n",
       "      <td>3</td>\n",
       "      <td>...</td>\n",
       "      <td>1</td>\n",
       "      <td>1</td>\n",
       "      <td>2</td>\n",
       "      <td>1</td>\n",
       "      <td>1</td>\n",
       "      <td>1</td>\n",
       "      <td>3</td>\n",
       "      <td>2</td>\n",
       "      <td>1</td>\n",
       "      <td>2</td>\n",
       "    </tr>\n",
       "    <tr>\n",
       "      <th>3</th>\n",
       "      <td>4148</td>\n",
       "      <td>Voted</td>\n",
       "      <td>1</td>\n",
       "      <td>4</td>\n",
       "      <td>1</td>\n",
       "      <td>4</td>\n",
       "      <td>2</td>\n",
       "      <td>1</td>\n",
       "      <td>1</td>\n",
       "      <td>1</td>\n",
       "      <td>...</td>\n",
       "      <td>1</td>\n",
       "      <td>1</td>\n",
       "      <td>3</td>\n",
       "      <td>2</td>\n",
       "      <td>2</td>\n",
       "      <td>2</td>\n",
       "      <td>3</td>\n",
       "      <td>2</td>\n",
       "      <td>2</td>\n",
       "      <td>3</td>\n",
       "    </tr>\n",
       "    <tr>\n",
       "      <th>4</th>\n",
       "      <td>4460</td>\n",
       "      <td>Voted</td>\n",
       "      <td>3</td>\n",
       "      <td>1</td>\n",
       "      <td>3</td>\n",
       "      <td>1</td>\n",
       "      <td>3</td>\n",
       "      <td>2</td>\n",
       "      <td>2</td>\n",
       "      <td>2</td>\n",
       "      <td>...</td>\n",
       "      <td>1</td>\n",
       "      <td>1</td>\n",
       "      <td>1</td>\n",
       "      <td>2</td>\n",
       "      <td>1</td>\n",
       "      <td>2</td>\n",
       "      <td>1</td>\n",
       "      <td>1</td>\n",
       "      <td>1</td>\n",
       "      <td>1</td>\n",
       "    </tr>\n",
       "  </tbody>\n",
       "</table>\n",
       "<p>5 rows × 43 columns</p>\n",
       "</div>"
      ],
      "text/plain": [
       "   case_identifier turnout16_2016  RIGGED_SYSTEM_1_2016  RIGGED_SYSTEM_2_2016  \\\n",
       "0              779          Voted                     3                     4   \n",
       "1             2108          Voted                     2                     1   \n",
       "2             2597          Voted                     2                     4   \n",
       "3             4148          Voted                     1                     4   \n",
       "4             4460          Voted                     3                     1   \n",
       "\n",
       "   RIGGED_SYSTEM_3_2016  RIGGED_SYSTEM_4_2016  RIGGED_SYSTEM_5_2016  \\\n",
       "0                     1                     4                     3   \n",
       "1                     3                     1                     3   \n",
       "2                     1                     4                     1   \n",
       "3                     1                     4                     2   \n",
       "4                     3                     1                     3   \n",
       "\n",
       "   RIGGED_SYSTEM_6_2016  track_2016  persfinretro_2016  ...  imiss_n_2016  \\\n",
       "0                     2           2                  2  ...             1   \n",
       "1                     2           2                  3  ...             2   \n",
       "2                     1           1                  3  ...             1   \n",
       "3                     1           1                  1  ...             1   \n",
       "4                     2           2                  2  ...             1   \n",
       "\n",
       "   imiss_o_2016  imiss_p_2016  imiss_q_2016  imiss_r_2016  imiss_s_2016  \\\n",
       "0             2             2             1             2             1   \n",
       "1             1             1             1             1             2   \n",
       "2             1             2             1             1             1   \n",
       "3             1             3             2             2             2   \n",
       "4             1             1             2             1             2   \n",
       "\n",
       "   imiss_t_2016  imiss_u_2016  imiss_x_2016  imiss_y_2016  \n",
       "0             1             2             1             1  \n",
       "1             1             2             3             4  \n",
       "2             3             2             1             2  \n",
       "3             3             2             2             3  \n",
       "4             1             1             1             1  \n",
       "\n",
       "[5 rows x 43 columns]"
      ]
     },
     "execution_count": 2,
     "metadata": {},
     "output_type": "execute_result"
    }
   ],
   "source": [
    "vote = pd.read_csv('../../ml4-data/voters.csv')\n",
    "vote.head()"
   ]
  },
  {
   "cell_type": "code",
   "execution_count": 3,
   "metadata": {},
   "outputs": [
    {
     "data": {
      "image/png": "[encoded data removed]",
      "text/plain": [
       "<Figure size 432x288 with 1 Axes>"
      ]
     },
     "metadata": {},
     "output_type": "display_data"
    }
   ],
   "source": [
    "sns.countplot(x='turnout16_2016', data=vote)\n",
    "plt.show()"
   ]
  },
  {
   "cell_type": "code",
   "execution_count": 32,
   "metadata": {},
   "outputs": [
    {
     "data": {
      "text/html": [
       "<div>\n",
       "<style scoped>\n",
       "    .dataframe tbody tr th:only-of-type {\n",
       "        vertical-align: middle;\n",
       "    }\n",
       "\n",
       "    .dataframe tbody tr th {\n",
       "        vertical-align: top;\n",
       "    }\n",
       "\n",
       "    .dataframe thead th {\n",
       "        text-align: right;\n",
       "    }\n",
       "</style>\n",
       "<table border=\"1\" class=\"dataframe\">\n",
       "  <thead>\n",
       "    <tr style=\"text-align: right;\">\n",
       "      <th></th>\n",
       "      <th>turnout16_2016</th>\n",
       "      <th>RIGGED_SYSTEM_1_2016</th>\n",
       "      <th>RIGGED_SYSTEM_2_2016</th>\n",
       "      <th>RIGGED_SYSTEM_3_2016</th>\n",
       "      <th>RIGGED_SYSTEM_4_2016</th>\n",
       "      <th>RIGGED_SYSTEM_5_2016</th>\n",
       "      <th>RIGGED_SYSTEM_6_2016</th>\n",
       "      <th>track_2016</th>\n",
       "      <th>persfinretro_2016</th>\n",
       "      <th>econtrend_2016</th>\n",
       "      <th>...</th>\n",
       "      <th>imiss_n_2016</th>\n",
       "      <th>imiss_o_2016</th>\n",
       "      <th>imiss_p_2016</th>\n",
       "      <th>imiss_q_2016</th>\n",
       "      <th>imiss_r_2016</th>\n",
       "      <th>imiss_s_2016</th>\n",
       "      <th>imiss_t_2016</th>\n",
       "      <th>imiss_u_2016</th>\n",
       "      <th>imiss_x_2016</th>\n",
       "      <th>imiss_y_2016</th>\n",
       "    </tr>\n",
       "  </thead>\n",
       "  <tbody>\n",
       "    <tr>\n",
       "      <th>0</th>\n",
       "      <td>Voted</td>\n",
       "      <td>3</td>\n",
       "      <td>4</td>\n",
       "      <td>1</td>\n",
       "      <td>4</td>\n",
       "      <td>3</td>\n",
       "      <td>2</td>\n",
       "      <td>2</td>\n",
       "      <td>2</td>\n",
       "      <td>1</td>\n",
       "      <td>...</td>\n",
       "      <td>1</td>\n",
       "      <td>2</td>\n",
       "      <td>2</td>\n",
       "      <td>1</td>\n",
       "      <td>2</td>\n",
       "      <td>1</td>\n",
       "      <td>1</td>\n",
       "      <td>2</td>\n",
       "      <td>1</td>\n",
       "      <td>1</td>\n",
       "    </tr>\n",
       "    <tr>\n",
       "      <th>1</th>\n",
       "      <td>Voted</td>\n",
       "      <td>2</td>\n",
       "      <td>1</td>\n",
       "      <td>3</td>\n",
       "      <td>1</td>\n",
       "      <td>3</td>\n",
       "      <td>2</td>\n",
       "      <td>2</td>\n",
       "      <td>3</td>\n",
       "      <td>3</td>\n",
       "      <td>...</td>\n",
       "      <td>2</td>\n",
       "      <td>1</td>\n",
       "      <td>1</td>\n",
       "      <td>1</td>\n",
       "      <td>1</td>\n",
       "      <td>2</td>\n",
       "      <td>1</td>\n",
       "      <td>2</td>\n",
       "      <td>3</td>\n",
       "      <td>4</td>\n",
       "    </tr>\n",
       "    <tr>\n",
       "      <th>2</th>\n",
       "      <td>Voted</td>\n",
       "      <td>2</td>\n",
       "      <td>4</td>\n",
       "      <td>1</td>\n",
       "      <td>4</td>\n",
       "      <td>1</td>\n",
       "      <td>1</td>\n",
       "      <td>1</td>\n",
       "      <td>3</td>\n",
       "      <td>3</td>\n",
       "      <td>...</td>\n",
       "      <td>1</td>\n",
       "      <td>1</td>\n",
       "      <td>2</td>\n",
       "      <td>1</td>\n",
       "      <td>1</td>\n",
       "      <td>1</td>\n",
       "      <td>3</td>\n",
       "      <td>2</td>\n",
       "      <td>1</td>\n",
       "      <td>2</td>\n",
       "    </tr>\n",
       "    <tr>\n",
       "      <th>3</th>\n",
       "      <td>Voted</td>\n",
       "      <td>1</td>\n",
       "      <td>4</td>\n",
       "      <td>1</td>\n",
       "      <td>4</td>\n",
       "      <td>2</td>\n",
       "      <td>1</td>\n",
       "      <td>1</td>\n",
       "      <td>1</td>\n",
       "      <td>1</td>\n",
       "      <td>...</td>\n",
       "      <td>1</td>\n",
       "      <td>1</td>\n",
       "      <td>3</td>\n",
       "      <td>2</td>\n",
       "      <td>2</td>\n",
       "      <td>2</td>\n",
       "      <td>3</td>\n",
       "      <td>2</td>\n",
       "      <td>2</td>\n",
       "      <td>3</td>\n",
       "    </tr>\n",
       "    <tr>\n",
       "      <th>4</th>\n",
       "      <td>Voted</td>\n",
       "      <td>3</td>\n",
       "      <td>1</td>\n",
       "      <td>3</td>\n",
       "      <td>1</td>\n",
       "      <td>3</td>\n",
       "      <td>2</td>\n",
       "      <td>2</td>\n",
       "      <td>2</td>\n",
       "      <td>2</td>\n",
       "      <td>...</td>\n",
       "      <td>1</td>\n",
       "      <td>1</td>\n",
       "      <td>1</td>\n",
       "      <td>2</td>\n",
       "      <td>1</td>\n",
       "      <td>2</td>\n",
       "      <td>1</td>\n",
       "      <td>1</td>\n",
       "      <td>1</td>\n",
       "      <td>1</td>\n",
       "    </tr>\n",
       "  </tbody>\n",
       "</table>\n",
       "<p>5 rows × 42 columns</p>\n",
       "</div>"
      ],
      "text/plain": [
       "  turnout16_2016  RIGGED_SYSTEM_1_2016  RIGGED_SYSTEM_2_2016  \\\n",
       "0          Voted                     3                     4   \n",
       "1          Voted                     2                     1   \n",
       "2          Voted                     2                     4   \n",
       "3          Voted                     1                     4   \n",
       "4          Voted                     3                     1   \n",
       "\n",
       "   RIGGED_SYSTEM_3_2016  RIGGED_SYSTEM_4_2016  RIGGED_SYSTEM_5_2016  \\\n",
       "0                     1                     4                     3   \n",
       "1                     3                     1                     3   \n",
       "2                     1                     4                     1   \n",
       "3                     1                     4                     2   \n",
       "4                     3                     1                     3   \n",
       "\n",
       "   RIGGED_SYSTEM_6_2016  track_2016  persfinretro_2016  econtrend_2016  ...  \\\n",
       "0                     2           2                  2               1  ...   \n",
       "1                     2           2                  3               3  ...   \n",
       "2                     1           1                  3               3  ...   \n",
       "3                     1           1                  1               1  ...   \n",
       "4                     2           2                  2               2  ...   \n",
       "\n",
       "   imiss_n_2016  imiss_o_2016  imiss_p_2016  imiss_q_2016  imiss_r_2016  \\\n",
       "0             1             2             2             1             2   \n",
       "1             2             1             1             1             1   \n",
       "2             1             1             2             1             1   \n",
       "3             1             1             3             2             2   \n",
       "4             1             1             1             2             1   \n",
       "\n",
       "   imiss_s_2016  imiss_t_2016  imiss_u_2016  imiss_x_2016  imiss_y_2016  \n",
       "0             1             1             2             1             1  \n",
       "1             2             1             2             3             4  \n",
       "2             1             3             2             1             2  \n",
       "3             2             3             2             2             3  \n",
       "4             2             1             1             1             1  \n",
       "\n",
       "[5 rows x 42 columns]"
      ]
     },
     "execution_count": 32,
     "metadata": {},
     "output_type": "execute_result"
    }
   ],
   "source": [
    "vote = vote.iloc[:, 1:]\n",
    "vote.head()"
   ]
  },
  {
   "cell_type": "code",
   "execution_count": 34,
   "metadata": {},
   "outputs": [],
   "source": [
    "from sklearn.preprocessing import LabelEncoder\n",
    "y = LabelEncoder().fit_transform(vote['turnout16_2016'])\n",
    "X = vote.iloc[:, 1:]"
   ]
  },
  {
   "cell_type": "code",
   "execution_count": 37,
   "metadata": {},
   "outputs": [
    {
     "name": "stdout",
     "output_type": "stream",
     "text": [
      "Optimization terminated successfully.\n",
      "         Current function value: 0.150653\n",
      "         Iterations 8\n",
      "                           Results: Logit\n",
      "====================================================================\n",
      "Model:               Logit             Pseudo R-squared:  0.094     \n",
      "Dependent Variable:  y                 AIC:               2098.3433 \n",
      "Date:                2020-04-10 14:55  BIC:               2377.4987 \n",
      "No. Observations:    6692              Log-Likelihood:    -1008.2   \n",
      "Df Model:            40                LL-Null:           -1112.2   \n",
      "Df Residuals:        6651              LLR p-value:       1.4534e-24\n",
      "Converged:           1.0000            Scale:             1.0000    \n",
      "No. Iterations:      8.0000                                         \n",
      "--------------------------------------------------------------------\n",
      "                      Coef.  Std.Err.    z    P>|z|   [0.025  0.975]\n",
      "--------------------------------------------------------------------\n",
      "RIGGED_SYSTEM_1_2016  0.2652   0.0836  3.1712 0.0015  0.1013  0.4291\n",
      "RIGGED_SYSTEM_2_2016  0.1352   0.0853  1.5839 0.1132 -0.0321  0.3025\n",
      "RIGGED_SYSTEM_3_2016  0.1083   0.1054  1.0273 0.3043 -0.0983  0.3150\n",
      "RIGGED_SYSTEM_4_2016 -0.0008   0.0847 -0.0096 0.9923 -0.1668  0.1652\n",
      "RIGGED_SYSTEM_5_2016  0.2526   0.0938  2.6932 0.0071  0.0688  0.4364\n",
      "RIGGED_SYSTEM_6_2016  0.0425   0.1009  0.4211 0.6737 -0.1553  0.2403\n",
      "track_2016            0.2883   0.1192  2.4185 0.0156  0.0547  0.5220\n",
      "persfinretro_2016     0.0513   0.1033  0.4964 0.6196 -0.1512  0.2538\n",
      "econtrend_2016       -0.2837   0.0874 -3.2444 0.0012 -0.4551 -0.1123\n",
      "Americatrend_2016    -0.0827   0.0804 -1.0278 0.3041 -0.2403  0.0750\n",
      "futuretrend_2016      0.2300   0.0704  3.2662 0.0011  0.0920  0.3680\n",
      "wealth_2016          -0.0619   0.0265 -2.3414 0.0192 -0.1138 -0.0101\n",
      "values_culture_2016  -0.0421   0.0390 -1.0795 0.2804 -0.1186  0.0344\n",
      "US_respect_2016      -0.0632   0.0439 -1.4409 0.1496 -0.1493  0.0228\n",
      "trustgovt_2016        0.6214   0.1278  4.8636 0.0000  0.3710  0.8718\n",
      "trust_people_2016     0.0462   0.0423  1.0918 0.2749 -0.0367  0.1291\n",
      "helpful_people_2016  -0.0461   0.0355 -1.2991 0.1939 -0.1157  0.0235\n",
      "fair_people_2016     -0.0202   0.0303 -0.6669 0.5049 -0.0797  0.0392\n",
      "imiss_a_2016          0.3995   0.1403  2.8482 0.0044  0.1246  0.6744\n",
      "imiss_b_2016         -0.2257   0.1582 -1.4267 0.1537 -0.5359  0.0844\n",
      "imiss_c_2016          0.0425   0.0909  0.4671 0.6404 -0.1358  0.2207\n",
      "imiss_d_2016          0.0518   0.1221  0.4238 0.6717 -0.1876  0.2911\n",
      "imiss_e_2016         -0.0801   0.0786 -1.0178 0.3088 -0.2342  0.0741\n",
      "imiss_f_2016         -0.3149   0.1061 -2.9686 0.0030 -0.5229 -0.1070\n",
      "imiss_g_2016         -0.2996   0.0770 -3.8924 0.0001 -0.4504 -0.1487\n",
      "imiss_h_2016         -0.1580   0.1075 -1.4689 0.1419 -0.3687  0.0528\n",
      "imiss_i_2016          0.0844   0.0914  0.9235 0.3558 -0.0948  0.2636\n",
      "imiss_j_2016          0.0888   0.1409  0.6303 0.5285 -0.1873  0.3650\n",
      "imiss_k_2016         -0.1672   0.0828 -2.0201 0.0434 -0.3294 -0.0050\n",
      "imiss_l_2016          0.2809   0.1064  2.6408 0.0083  0.0724  0.4893\n",
      "imiss_m_2016         -0.0999   0.1496 -0.6681 0.5041 -0.3931  0.1932\n",
      "imiss_n_2016         -0.4227   0.0901 -4.6908 0.0000 -0.5993 -0.2461\n",
      "imiss_o_2016          0.2217   0.1457  1.5215 0.1281 -0.0639  0.5074\n",
      "imiss_p_2016          0.1044   0.1062  0.9830 0.3256 -0.1037  0.3125\n",
      "imiss_q_2016          0.2459   0.1198  2.0524 0.0401  0.0111  0.4807\n",
      "imiss_r_2016          0.2107   0.1227  1.7162 0.0861 -0.0299  0.4512\n",
      "imiss_s_2016         -0.0832   0.1354 -0.6145 0.5389 -0.3486  0.1822\n",
      "imiss_t_2016         -0.0993   0.0680 -1.4590 0.1446 -0.2326  0.0341\n",
      "imiss_u_2016          0.0449   0.0970  0.4633 0.6431 -0.1452  0.2350\n",
      "imiss_x_2016         -0.0274   0.0976 -0.2809 0.7788 -0.2187  0.1639\n",
      "imiss_y_2016          0.1456   0.0945  1.5404 0.1235 -0.0397  0.3309\n",
      "====================================================================\n",
      "\n"
     ]
    }
   ],
   "source": [
    "import statsmodels.api as sm\n",
    "logit_model=sm.Logit(y,X)\n",
    "result=logit_model.fit()\n",
    "print(result.summary2())"
   ]
  },
  {
   "cell_type": "code",
   "execution_count": 40,
   "metadata": {},
   "outputs": [],
   "source": [
    "from sklearn.model_selection import train_test_split\n",
    "X_train, X_test, y_train, y_test = train_test_split(X, y, \n",
    "                                                    test_size=0.2, random_state=0)\n",
    "columns = X_train.columns"
   ]
  },
  {
   "cell_type": "code",
   "execution_count": 42,
   "metadata": {},
   "outputs": [
    {
     "name": "stdout",
     "output_type": "stream",
     "text": [
      "Length of oversampled data is  10308\n",
      "Number of non-voters in oversampled data 5154\n",
      "Number of voters 5154\n",
      "Proportion of non-voters in oversampled data is  0.5\n",
      "Proportion of voters in oversampled data is  0.5\n"
     ]
    }
   ],
   "source": [
    "from imblearn.over_sampling import SMOTE\n",
    "os = SMOTE(random_state=0)\n",
    "os_data_X,os_data_y=os.fit_sample(X_train, y_train)\n",
    "os_data_X = pd.DataFrame(data=os_data_X,columns=columns )\n",
    "os_data_y= pd.DataFrame(data=os_data_y,columns=['turnout16_2016'])\n",
    "\n",
    "print(\"Length of oversampled data is \",len(os_data_X))\n",
    "print(\"Number of non-voters in oversampled data\",len(os_data_y[os_data_y['turnout16_2016']==0]))\n",
    "print(\"Number of voters\",len(os_data_y[os_data_y['turnout16_2016']==1]))\n",
    "print(\"Proportion of non-voters in oversampled data is \",len(os_data_y[os_data_y['turnout16_2016']==0])/len(os_data_X))\n",
    "print(\"Proportion of voters in oversampled data is \",len(os_data_y[os_data_y['turnout16_2016']==1])/len(os_data_X))"
   ]
  },
  {
   "cell_type": "code",
   "execution_count": 47,
   "metadata": {},
   "outputs": [
    {
     "data": {
      "text/plain": [
       "LogisticRegression(C=1.0, class_weight=None, dual=False, fit_intercept=True,\n",
       "                   intercept_scaling=1, l1_ratio=None, max_iter=10000,\n",
       "                   multi_class='auto', n_jobs=None, penalty='l2',\n",
       "                   random_state=None, solver='lbfgs', tol=0.0001, verbose=0,\n",
       "                   warm_start=False)"
      ]
     },
     "execution_count": 47,
     "metadata": {},
     "output_type": "execute_result"
    }
   ],
   "source": [
    "from sklearn.linear_model import LogisticRegression\n",
    "from sklearn import metrics\n",
    "logreg = LogisticRegression(max_iter = 10000)\n",
    "logreg.fit(os_data_X, os_data_y.values.ravel())"
   ]
  },
  {
   "cell_type": "code",
   "execution_count": 48,
   "metadata": {},
   "outputs": [],
   "source": [
    "nocv_y_pred = logreg.predict(X_test)"
   ]
  },
  {
   "cell_type": "code",
   "execution_count": 55,
   "metadata": {},
   "outputs": [
    {
     "data": {
      "text/plain": [
       "LogisticRegressionCV(Cs=10, class_weight=None, cv=10, dual=False,\n",
       "                     fit_intercept=True, intercept_scaling=1.0, l1_ratios=None,\n",
       "                     max_iter=10000, multi_class='auto', n_jobs=None,\n",
       "                     penalty='l2', random_state=None, refit=True, scoring=None,\n",
       "                     solver='lbfgs', tol=0.0001, verbose=0)"
      ]
     },
     "execution_count": 55,
     "metadata": {},
     "output_type": "execute_result"
    }
   ],
   "source": [
    "from sklearn.linear_model import LogisticRegressionCV\n",
    "cv_logreg = LogisticRegressionCV(max_iter = 10000, cv = 10)\n",
    "cv_logreg.fit(os_data_X, os_data_y.values.ravel())"
   ]
  },
  {
   "cell_type": "code",
   "execution_count": 56,
   "metadata": {},
   "outputs": [],
   "source": [
    "cv_y_pred = cv_logreg.predict(X_test)"
   ]
  },
  {
   "cell_type": "code",
   "execution_count": 52,
   "metadata": {},
   "outputs": [],
   "source": [
    "from sklearn.metrics import confusion_matrix"
   ]
  },
  {
   "cell_type": "code",
   "execution_count": 53,
   "metadata": {},
   "outputs": [
    {
     "data": {
      "text/plain": [
       "Text(0.5, 1.0, 'LogReg without CV')"
      ]
     },
     "execution_count": 53,
     "metadata": {},
     "output_type": "execute_result"
    },
    {
     "data": {
      "image/png": "[encoded data removed]",
      "text/plain": [
       "<Figure size 432x288 with 2 Axes>"
      ]
     },
     "metadata": {},
     "output_type": "display_data"
    }
   ],
   "source": [
    "confusion = confusion_matrix(y_test, nocv_y_pred)\n",
    "sns.heatmap(pd.DataFrame(confusion), annot=True, fmt='g')\n",
    "plt.title(\"LogReg without CV\")"
   ]
  },
  {
   "cell_type": "code",
   "execution_count": 57,
   "metadata": {},
   "outputs": [
    {
     "data": {
      "text/plain": [
       "Text(0.5, 1.0, 'LogReg with CV')"
      ]
     },
     "execution_count": 57,
     "metadata": {},
     "output_type": "execute_result"
    },
    {
     "data": {
      "image/png": "[encoded data removed]",
      "text/plain": [
       "<Figure size 432x288 with 2 Axes>"
      ]
     },
     "metadata": {},
     "output_type": "display_data"
    }
   ],
   "source": [
    "confusion = confusion_matrix(y_test, cv_y_pred)\n",
    "sns.heatmap(pd.DataFrame(confusion), annot=True, fmt='g')\n",
    "plt.title(\"LogReg with CV\")"
   ]
  },
  {
   "cell_type": "code",
   "execution_count": 59,
   "metadata": {},
   "outputs": [
    {
     "data": {
      "image/png": "[encoded data removed]",
      "text/plain": [
       "<Figure size 432x288 with 1 Axes>"
      ]
     },
     "metadata": {},
     "output_type": "display_data"
    }
   ],
   "source": [
    "from sklearn.metrics import roc_auc_score\n",
    "from sklearn.metrics import roc_curve\n",
    "\n",
    "logit_roc_auc = roc_auc_score(y_test, logreg.predict(X_test))\n",
    "fpr, tpr, thresholds = roc_curve(y_test, logreg.predict_proba(X_test)[:,1])\n",
    "\n",
    "plt.figure()\n",
    "plt.plot(fpr, tpr, label='Logistic Regression without CV (area = %0.2f)' % logit_roc_auc)\n",
    "plt.plot([0, 1], [0, 1],'r--')\n",
    "plt.xlim([0.0, 1.0])\n",
    "plt.ylim([0.0, 1.05])\n",
    "plt.xlabel('False Positive Rate')\n",
    "plt.ylabel('True Positive Rate')\n",
    "plt.title('Receiver operating characteristic')\n",
    "plt.legend(loc=\"lower right\")\n",
    "plt.show()"
   ]
  },
  {
   "cell_type": "code",
   "execution_count": 60,
   "metadata": {},
   "outputs": [
    {
     "data": {
      "image/png": "[encoded data removed]",
      "text/plain": [
       "<Figure size 432x288 with 1 Axes>"
      ]
     },
     "metadata": {},
     "output_type": "display_data"
    }
   ],
   "source": [
    "from sklearn.metrics import roc_auc_score\n",
    "from sklearn.metrics import roc_curve\n",
    "\n",
    "logit_roc_auc = roc_auc_score(y_test, cv_logreg.predict(X_test))\n",
    "fpr, tpr, thresholds = roc_curve(y_test, cv_logreg.predict_proba(X_test)[:,1])\n",
    "\n",
    "plt.figure()\n",
    "plt.plot(fpr, tpr, label='Logistic Regression with CV (area = %0.2f)' % logit_roc_auc)\n",
    "plt.plot([0, 1], [0, 1],'r--')\n",
    "plt.xlim([0.0, 1.0])\n",
    "plt.ylim([0.0, 1.05])\n",
    "plt.xlabel('False Positive Rate')\n",
    "plt.ylabel('True Positive Rate')\n",
    "plt.title('Receiver operating characteristic')\n",
    "plt.legend(loc=\"lower right\")\n",
    "plt.show()"
   ]
  }
 ],
 "metadata": {
  "kernelspec": {
   "display_name": "Python 3",
   "language": "python",
   "name": "python3"
  },
  "language_info": {
   "codemirror_mode": {
    "name": "ipython",
    "version": 3
   },
   "file_extension": ".py",
   "mimetype": "text/x-python",
   "name": "python",
   "nbconvert_exporter": "python",
   "pygments_lexer": "ipython3",
   "version": "3.8.2"
  }
 },
 "nbformat": 4,
 "nbformat_minor": 4
}
